{
 "cells": [
  {
   "cell_type": "code",
   "execution_count": 1,
   "id": "847e6616",
   "metadata": {},
   "outputs": [],
   "source": [
    "import numpy as np"
   ]
  },
  {
   "cell_type": "code",
   "execution_count": 7,
   "id": "a01f251e",
   "metadata": {},
   "outputs": [
    {
     "name": "stdout",
     "output_type": "stream",
     "text": [
      "Mean Speed Will be: 32.24258580925573 miles/hour\n"
     ]
    }
   ],
   "source": [
    "taxi = np.genfromtxt('nyc_taxis.csv', delimiter=',', skip_header=True)\n",
    "speed = taxi[:,7]/(taxi[:,8]/3600)\n",
    "mean_speed= speed.mean()\n",
    "print('Mean Speed Will be:', mean_speed, 'miles/hour')"
   ]
  },
  {
   "cell_type": "code",
   "execution_count": 21,
   "id": "1c9c76fd",
   "metadata": {},
   "outputs": [
    {
     "name": "stdout",
     "output_type": "stream",
     "text": [
      "4385454.28999666\n"
     ]
    }
   ],
   "source": [
    "taxi = np.genfromtxt('nyc_taxis.csv', delimiter=',', skip_header=True)\n",
    "price= taxi[:,13]\n",
    "mean_price= price.mean()\n",
    "total_price=0\n",
    "i=0\n",
    "for i in price:\n",
    "    total_price=total_price+i\n",
    "print(total_price)"
   ]
  },
  {
   "cell_type": "code",
   "execution_count": 14,
   "id": "fcbf615f",
   "metadata": {},
   "outputs": [
    {
     "name": "stdout",
     "output_type": "stream",
     "text": [
      "316890.99999991956\n"
     ]
    }
   ],
   "source": [
    "taxi = np.genfromtxt('nyc_taxis.csv', delimiter=',', skip_header=True)\n",
    "price= taxi[:,11]\n",
    "total_toll=0\n",
    "i=0\n",
    "for i in price:\n",
    "    total_toll=total_toll+i\n",
    "print(total_toll)    "
   ]
  },
  {
   "cell_type": "code",
   "execution_count": 15,
   "id": "5bdddeef",
   "metadata": {},
   "outputs": [
    {
     "name": "stdout",
     "output_type": "stream",
     "text": [
      "Price Per Mile: 3.865557386304032\n"
     ]
    }
   ],
   "source": [
    "taxi = np.genfromtxt('nyc_taxis.csv', delimiter=',', skip_header=True)\n",
    "distance= taxi[:,7]\n",
    "total_distance=0\n",
    "i=0\n",
    "for i in distance:\n",
    "    total_distance=total_distance+i\n",
    "\n",
    "price= taxi[:,13]\n",
    "total_price=0\n",
    "j=0\n",
    "for j in price:\n",
    "    total_price=total_price+j\n",
    "    \n",
    "permile_price=total_price/total_distance\n",
    "print('Price Per Mile:', permile_price)"
   ]
  },
  {
   "cell_type": "code",
   "execution_count": 22,
   "id": "f0c94cf8",
   "metadata": {},
   "outputs": [
    {
     "name": "stdout",
     "output_type": "stream",
     "text": [
      "Type 1 Payment is More\n"
     ]
    }
   ],
   "source": [
    "taxi = np.genfromtxt('nyc_taxis.csv', delimiter=',', skip_header=True)\n",
    "payment_type=taxi[:,14]\n",
    "i=0\n",
    "flag1=0\n",
    "flag2=0\n",
    "for i in payment_type:\n",
    "    if(i==1):\n",
    "        flag1=flag1+1\n",
    "    else:\n",
    "        flag2=flag2+1\n",
    "    \n",
    "if(flag1>flag2):\n",
    "    print('Type 1 Payment is More')\n",
    "else:\n",
    "    print('Type 2 Payment is More')"
   ]
  }
 ],
 "metadata": {
  "kernelspec": {
   "display_name": "Python 3",
   "language": "python",
   "name": "python3"
  },
  "language_info": {
   "codemirror_mode": {
    "name": "ipython",
    "version": 3
   },
   "file_extension": ".py",
   "mimetype": "text/x-python",
   "name": "python",
   "nbconvert_exporter": "python",
   "pygments_lexer": "ipython3",
   "version": "3.8.8"
  }
 },
 "nbformat": 4,
 "nbformat_minor": 5
}
